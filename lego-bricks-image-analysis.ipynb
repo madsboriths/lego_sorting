{
 "cells": [
  {
   "cell_type": "code",
   "execution_count": 2,
   "metadata": {
    "_cell_guid": "b1076dfc-b9ad-4769-8c92-a6c4dae69d19",
    "_uuid": "8f2839f25d086af736a60e9eeb907d3b93b6e0e5",
    "collapsed": true,
    "trusted": true
   },
   "outputs": [
    {
     "name": "stdout",
     "output_type": "stream",
     "text": [
      "['11214 Bush 3M friction with Cross axle', '18651 Cross Axle 2M with Snap friction', '2357 Brick corner 1x2x2', '3003 Brick 2x2', '3004 Brick 1x2', '3005 Brick 1x1', '3022 Plate 2x2', '3023 Plate 1x2', '3024 Plate 1x1', '3040 Roof Tile 1x2x45deg', '3069 Flat Tile 1x2', '32123 half Bush', '3673 Peg 2M', '3713 Bush for Cross Axle', '3794 Plate 1X2 with 1 Knob', '6632 Technic Lever 3M']\n"
     ]
    }
   ],
   "source": [
    "# This Python 3 environment comes with many helpful analytics libraries installed\n",
    "# It is defined by the kaggle/python docker image: https://github.com/kaggle/docker-python\n",
    "# For example, here's several helpful packages to load in \n",
    "\n",
    "import numpy as np # linear algebra\n",
    "import pandas as pd # data processing, CSV file I/O (e.g. pd.read_csv)\n",
    "\n",
    "# Input data files are available in the \"../input/\" directory.\n",
    "# For example, running this (by clicking run or pressing Shift+Enter) will list the files in the input directory\n",
    "\n",
    "import os\n",
    "print(os.listdir(\"LEGO brick images v1\"))\n",
    "\n",
    "# Any results you write to the current directory are saved as output."
   ]
  },
  {
   "cell_type": "markdown",
   "metadata": {
    "_uuid": "f554edb9d734a127d734d4a1613b33622f9a1ce7"
   },
   "source": [
    "# Acknowledgements"
   ]
  },
  {
   "cell_type": "markdown",
   "metadata": {
    "_uuid": "865ea9c323416d07bf1085fca9aa7b8098a9b214"
   },
   "source": [
    "This kernel draws inspiration from Kaggler **Paul Mooney** image kernels found [here](https://www.kaggle.com/paultimothymooney/kernels)"
   ]
  },
  {
   "cell_type": "markdown",
   "metadata": {
    "_cell_guid": "79c7e3d0-c299-4dcb-8224-4455121ee9b0",
    "_uuid": "d629ff2d2480ee46fbb7e2d37f6b5fab8052498a",
    "collapsed": true,
    "trusted": false
   },
   "source": [
    "# Step 1 : Import Modules"
   ]
  },
  {
   "cell_type": "code",
   "execution_count": 3,
   "metadata": {
    "_uuid": "e21d4fef609b2b4f051ddfec6bff2c052408f76a",
    "collapsed": true,
    "trusted": true
   },
   "outputs": [
    {
     "name": "stderr",
     "output_type": "stream",
     "text": [
      "C:\\Users\\seppe\\AppData\\Local\\Temp\\ipykernel_14320\\3201384208.py:11: DeprecationWarning: scipy.misc is deprecated and will be removed in 2.0.0\n",
      "  from scipy.misc import imresize, imread\n"
     ]
    },
    {
     "ename": "ImportError",
     "evalue": "cannot import name 'imresize' from 'scipy.misc' (c:\\Users\\seppe\\AppData\\Local\\Programs\\Python\\Python310\\lib\\site-packages\\scipy\\misc\\__init__.py)",
     "output_type": "error",
     "traceback": [
      "\u001b[1;31m---------------------------------------------------------------------------\u001b[0m",
      "\u001b[1;31mImportError\u001b[0m                               Traceback (most recent call last)",
      "Cell \u001b[1;32mIn[3], line 11\u001b[0m\n\u001b[0;32m      9\u001b[0m \u001b[38;5;28;01mimport\u001b[39;00m\u001b[38;5;250m \u001b[39m\u001b[38;5;21;01mseaborn\u001b[39;00m\u001b[38;5;250m \u001b[39m\u001b[38;5;28;01mas\u001b[39;00m\u001b[38;5;250m \u001b[39m\u001b[38;5;21;01msns\u001b[39;00m\n\u001b[0;32m     10\u001b[0m \u001b[38;5;28;01mimport\u001b[39;00m\u001b[38;5;250m \u001b[39m\u001b[38;5;21;01mcv2\u001b[39;00m\n\u001b[1;32m---> 11\u001b[0m \u001b[38;5;28;01mfrom\u001b[39;00m\u001b[38;5;250m \u001b[39m\u001b[38;5;21;01mscipy\u001b[39;00m\u001b[38;5;21;01m.\u001b[39;00m\u001b[38;5;21;01mmisc\u001b[39;00m\u001b[38;5;250m \u001b[39m\u001b[38;5;28;01mimport\u001b[39;00m imresize, imread\n\u001b[0;32m     12\u001b[0m \u001b[38;5;28;01mimport\u001b[39;00m\u001b[38;5;250m \u001b[39m\u001b[38;5;21;01msklearn\u001b[39;00m\n\u001b[0;32m     13\u001b[0m \u001b[38;5;28;01mfrom\u001b[39;00m\u001b[38;5;250m \u001b[39m\u001b[38;5;21;01msklearn\u001b[39;00m\u001b[38;5;250m \u001b[39m\u001b[38;5;28;01mimport\u001b[39;00m model_selection\n",
      "\u001b[1;31mImportError\u001b[0m: cannot import name 'imresize' from 'scipy.misc' (c:\\Users\\seppe\\AppData\\Local\\Programs\\Python\\Python310\\lib\\site-packages\\scipy\\misc\\__init__.py)"
     ]
    }
   ],
   "source": [
    "import pandas as pd\n",
    "import numpy as np\n",
    "from os import listdir\n",
    "from glob import glob\n",
    "import itertools\n",
    "import fnmatch\n",
    "import random\n",
    "import matplotlib.pylab as plt\n",
    "import seaborn as sns\n",
    "import cv2\n",
    "from scipy.misc import imresize, imread\n",
    "import sklearn\n",
    "from sklearn import model_selection\n",
    "from sklearn.model_selection import train_test_split, KFold, cross_val_score, StratifiedKFold, learning_curve, GridSearchCV\n",
    "from sklearn.metrics import confusion_matrix, make_scorer, accuracy_score\n",
    "from sklearn.linear_model import LogisticRegression\n",
    "from sklearn.tree import DecisionTreeClassifier\n",
    "from sklearn.neighbors import KNeighborsClassifier\n",
    "from sklearn.discriminant_analysis import LinearDiscriminantAnalysis\n",
    "from sklearn.naive_bayes import GaussianNB\n",
    "from sklearn.svm import SVC, LinearSVC\n",
    "from sklearn.ensemble import RandomForestClassifier, GradientBoostingClassifier\n",
    "import keras\n",
    "from keras import backend as K\n",
    "from keras.callbacks import Callback, EarlyStopping, ReduceLROnPlateau, ModelCheckpoint\n",
    "from keras.preprocessing.image import ImageDataGenerator\n",
    "from keras.utils.np_utils import to_categorical\n",
    "from keras.models import Sequential, model_from_json\n",
    "from keras.optimizers import SGD, RMSprop, Adam, Adagrad, Adadelta\n",
    "from keras.layers import Dense, Dropout, Activation, Flatten, BatchNormalization, Conv2D, MaxPool2D, MaxPooling2D\n",
    "%matplotlib inline"
   ]
  },
  {
   "cell_type": "markdown",
   "metadata": {
    "_uuid": "70dd017fa46cbd50b5d9a791274be7b680529c6a"
   },
   "source": [
    "# Step Two : Explore Data"
   ]
  },
  {
   "cell_type": "code",
   "execution_count": null,
   "metadata": {
    "_uuid": "b51c3c3bcc2e8d28de4845194aee04da57df47c8",
    "collapsed": true,
    "trusted": true
   },
   "outputs": [],
   "source": [
    "listdir('../input/lego brick images')[:10]"
   ]
  },
  {
   "cell_type": "code",
   "execution_count": null,
   "metadata": {
    "_uuid": "19c71828ad90725e6c64b2a32c38ef03cf45ed38",
    "collapsed": true,
    "trusted": true
   },
   "outputs": [],
   "source": [
    "listdir('../input/lego brick images/LEGO brick images')[:10]"
   ]
  },
  {
   "cell_type": "code",
   "execution_count": null,
   "metadata": {
    "_uuid": "d34572466ffced9235ec84cc5f367a5cc11944f4",
    "collapsed": true,
    "trusted": true
   },
   "outputs": [],
   "source": [
    "listdir('../input/lego brick images/LEGO brick images/train')"
   ]
  },
  {
   "cell_type": "code",
   "execution_count": null,
   "metadata": {
    "_uuid": "13fdeafb354a088716395e38a2200bc316efdc6f",
    "collapsed": true,
    "trusted": true
   },
   "outputs": [],
   "source": [
    "len(listdir('../input/lego brick images/LEGO brick images/train'))"
   ]
  },
  {
   "cell_type": "code",
   "execution_count": null,
   "metadata": {
    "_uuid": "86b8e994650b9108f610315fb894028d6594fb05",
    "collapsed": true,
    "trusted": true
   },
   "outputs": [],
   "source": [
    "len(listdir('../input/lego brick images/LEGO brick images/valid'))"
   ]
  },
  {
   "cell_type": "code",
   "execution_count": null,
   "metadata": {
    "_uuid": "690470741a33786b3c0670340a58bcfbfb4a0f7e",
    "collapsed": true,
    "trusted": true
   },
   "outputs": [],
   "source": [
    "listdir('../input/lego brick images/LEGO brick images/train/3023 Plate 1x2')"
   ]
  },
  {
   "cell_type": "markdown",
   "metadata": {
    "_uuid": "72e4cb3b91da284091beb88f97a6caffce46060a"
   },
   "source": [
    "# Step 3 :Plot Data"
   ]
  },
  {
   "cell_type": "code",
   "execution_count": null,
   "metadata": {
    "_uuid": "9a08a2600b21fcc9ba244e7618a19ad6dbda3dec",
    "collapsed": true,
    "trusted": true
   },
   "outputs": [],
   "source": [
    "train_path = '../input/lego brick images/LEGO brick images/train/'"
   ]
  },
  {
   "cell_type": "code",
   "execution_count": null,
   "metadata": {
    "_uuid": "413859fff3ff8c9b381bd37e5c9edd068c5da5d9",
    "collapsed": true,
    "trusted": true
   },
   "outputs": [],
   "source": [
    "valid_path ='../input/lego brick images/LEGO brick images/valid/'"
   ]
  },
  {
   "cell_type": "code",
   "execution_count": null,
   "metadata": {
    "_uuid": "4d95bdbc27c426e4ed8aa81a52e66fabcf360a56",
    "collapsed": true,
    "trusted": true
   },
   "outputs": [],
   "source": [
    "dir_name = '3023 Plate 1x2'"
   ]
  },
  {
   "cell_type": "code",
   "execution_count": null,
   "metadata": {
    "_uuid": "d6f4914ff9e53970f06899ff5dd84cc72db21539",
    "collapsed": true,
    "trusted": true
   },
   "outputs": [],
   "source": [
    "dir_path = train_path + dir_name + '/'"
   ]
  },
  {
   "cell_type": "code",
   "execution_count": null,
   "metadata": {
    "_uuid": "b83c9eec990fbf4fcbb068f599bc316a0896b37e",
    "collapsed": true,
    "trusted": true
   },
   "outputs": [],
   "source": [
    "image_path = dir_path + '0165.png'"
   ]
  },
  {
   "cell_type": "code",
   "execution_count": null,
   "metadata": {
    "_uuid": "cdfca6c6370b440217bc4ef84a4448bf04c3444c",
    "collapsed": true,
    "trusted": true
   },
   "outputs": [],
   "source": [
    "image_path"
   ]
  },
  {
   "cell_type": "code",
   "execution_count": null,
   "metadata": {
    "_uuid": "453b642eb4abebac98190f01f39a6d4a96a91df0",
    "collapsed": true,
    "trusted": true
   },
   "outputs": [],
   "source": [
    "image = cv2.imread(image_path)\n",
    "plt.figure(figsize=(16,16))\n",
    "plt.imshow(image)"
   ]
  },
  {
   "cell_type": "code",
   "execution_count": null,
   "metadata": {
    "_uuid": "211216541e7377e2dd1b0ed0bba11fb4f593d5e4",
    "collapsed": true,
    "trusted": true
   },
   "outputs": [],
   "source": [
    "image.shape"
   ]
  },
  {
   "cell_type": "markdown",
   "metadata": {
    "_uuid": "5381bf2fcfc87aff989b584287685029a88c3396"
   },
   "source": [
    "## Individual Image 2"
   ]
  },
  {
   "cell_type": "code",
   "execution_count": null,
   "metadata": {
    "_uuid": "f22a7a69ffe2d5e3749457d6ccff82252de249a5",
    "collapsed": true,
    "trusted": true
   },
   "outputs": [],
   "source": [
    "image_path = dir_path + '0032.png'\n",
    "image = cv2.imread(image_path)\n",
    "plt.figure(figsize=(16,16))\n",
    "plt.imshow(image)"
   ]
  },
  {
   "cell_type": "code",
   "execution_count": null,
   "metadata": {
    "_uuid": "d3da9bdf4334224ae42e9475b83c036426f88373",
    "collapsed": true,
    "trusted": true
   },
   "outputs": [],
   "source": [
    "image.shape"
   ]
  },
  {
   "cell_type": "markdown",
   "metadata": {
    "_uuid": "f270ec271f70744f0eceacff6d342e1b7ad83bc0"
   },
   "source": [
    "\n",
    "## Plot Bunch of Images"
   ]
  },
  {
   "cell_type": "code",
   "execution_count": null,
   "metadata": {
    "_uuid": "aaa96011bfb3775706348d5f9b8011732201b306",
    "collapsed": true,
    "trusted": true
   },
   "outputs": [],
   "source": [
    "path_name = train_path + '/**/*.png'"
   ]
  },
  {
   "cell_type": "code",
   "execution_count": null,
   "metadata": {
    "_uuid": "b82335368851ede579da823687e9a93a7aae1dd5",
    "collapsed": true,
    "trusted": true
   },
   "outputs": [],
   "source": [
    "imagePatches = glob(path_name, recursive=True)\n",
    "for filename in imagePatches[0:10]:\n",
    "    print(filename)"
   ]
  },
  {
   "cell_type": "code",
   "execution_count": null,
   "metadata": {
    "_uuid": "4252629d230dc0d93448932e32c53b9c8322868d",
    "collapsed": true,
    "trusted": true
   },
   "outputs": [],
   "source": [
    "# Plot Multiple Images\n",
    "bunchOfImages = imagePatches\n",
    "i_ = 0\n",
    "plt.rcParams['figure.figsize'] = (10.0, 10.0)\n",
    "plt.subplots_adjust(wspace=0, hspace=0)\n",
    "for l in bunchOfImages[:25]:\n",
    "    im = cv2.imread(l)\n",
    "    im = cv2.resize(im, (50, 50)) \n",
    "    plt.subplot(5, 5, i_+1) #.set_title(l)\n",
    "    plt.imshow(cv2.cvtColor(im, cv2.COLOR_BGR2RGB)); plt.axis('off')\n",
    "    i_ += 1"
   ]
  },
  {
   "cell_type": "markdown",
   "metadata": {
    "_uuid": "5c9853f1836a8df4133bd58fa2ed21b6a1587256"
   },
   "source": [
    "# Load Images"
   ]
  },
  {
   "cell_type": "code",
   "execution_count": null,
   "metadata": {
    "_uuid": "27daa047d31e663442597eeb619eeb5f0dcd62ed",
    "collapsed": true,
    "trusted": true
   },
   "outputs": [],
   "source": [
    "from keras.preprocessing.image import array_to_img, img_to_array, load_img, ImageDataGenerator\n",
    "def loadBatchImages(path):\n",
    "    catList = listdir(path)\n",
    "    loadedImagesTrain = []\n",
    "    loadedLabelsTrain = []\n",
    "    for cat in catList:\n",
    "        deepPath = path+cat+\"/\"\n",
    "        imageList = listdir(deepPath)\n",
    "        indx = 0\n",
    "        for images in imageList:                \n",
    "            img = load_img(deepPath + images)\n",
    "            img = img_to_array(img)\n",
    "            loadedLabelsTrain.append(cat)\n",
    "            loadedImagesTrain.append(img)\n",
    "    return loadedImagesTrain, loadedLabelsTrain"
   ]
  },
  {
   "cell_type": "code",
   "execution_count": null,
   "metadata": {
    "_uuid": "964466098c710389ea563b221608820ea6c6a529",
    "collapsed": true,
    "trusted": true
   },
   "outputs": [],
   "source": [
    "loadedImagesTrain, loadedLabelsTrain = loadBatchImages(train_path)"
   ]
  },
  {
   "cell_type": "code",
   "execution_count": null,
   "metadata": {
    "_uuid": "b45af6072be67b8ef229486feb8b5775b7f34c12",
    "collapsed": true,
    "trusted": true
   },
   "outputs": [],
   "source": [
    "len(loadedImagesTrain)"
   ]
  },
  {
   "cell_type": "code",
   "execution_count": null,
   "metadata": {
    "_uuid": "60c84f4ce10906f992f58200edb720f339d0beb4",
    "collapsed": true,
    "trusted": true
   },
   "outputs": [],
   "source": [
    "len(loadedLabelsTrain)"
   ]
  },
  {
   "cell_type": "code",
   "execution_count": null,
   "metadata": {
    "_uuid": "31de3e54d58e83c07b479501f14e33126c748dca",
    "collapsed": true,
    "trusted": true
   },
   "outputs": [],
   "source": [
    "len(np.unique(loadedLabelsTrain))"
   ]
  },
  {
   "cell_type": "code",
   "execution_count": null,
   "metadata": {
    "_uuid": "5ebccadb36654b4a2a8afbbe983ed8b236dfa338",
    "collapsed": true,
    "trusted": true
   },
   "outputs": [],
   "source": [
    "#Encode labels with value between 0 and n_classes-1.\n",
    "from sklearn.preprocessing import LabelEncoder\n",
    "encoder = LabelEncoder()"
   ]
  },
  {
   "cell_type": "code",
   "execution_count": null,
   "metadata": {
    "_uuid": "fd2413f5cfec9ab31d62b117b3213b48811b976d",
    "collapsed": true,
    "trusted": true
   },
   "outputs": [],
   "source": [
    "encoder.fit(loadedLabelsTrain)"
   ]
  },
  {
   "cell_type": "code",
   "execution_count": null,
   "metadata": {
    "_uuid": "dc828508f824f1870a7df9f1b7ddd87781659fb2",
    "collapsed": true,
    "trusted": true
   },
   "outputs": [],
   "source": [
    "encoded_loadedLabelsTrain = encoder.transform(loadedLabelsTrain)"
   ]
  },
  {
   "cell_type": "code",
   "execution_count": null,
   "metadata": {
    "_uuid": "823cd3b248964413704e44008cc29209ca512a79",
    "collapsed": true,
    "trusted": true
   },
   "outputs": [],
   "source": [
    "len(encoded_loadedLabelsTrain)"
   ]
  },
  {
   "cell_type": "code",
   "execution_count": null,
   "metadata": {
    "_uuid": "a984c26ba7db06a593d2ff9839fd8b415185e72d",
    "collapsed": true,
    "trusted": true
   },
   "outputs": [],
   "source": [
    "encoded_loadedLabelsTrain[:40]"
   ]
  },
  {
   "cell_type": "code",
   "execution_count": null,
   "metadata": {
    "_uuid": "b51913e3f9ece299843a3607002c0fd3369eb1ff",
    "collapsed": true,
    "trusted": true
   },
   "outputs": [],
   "source": [
    "encoded_loadedLabelsTrain[1000:1040]"
   ]
  },
  {
   "cell_type": "code",
   "execution_count": null,
   "metadata": {
    "_uuid": "2479eb27ef5ca320ea1746abac57d8d4eac99c98",
    "collapsed": true,
    "trusted": true
   },
   "outputs": [],
   "source": [
    "counts = np.bincount(encoded_loadedLabelsTrain)"
   ]
  },
  {
   "cell_type": "code",
   "execution_count": null,
   "metadata": {
    "_uuid": "b84a72b25e6e415675f34306ec3205983f5c0581",
    "collapsed": true,
    "trusted": true
   },
   "outputs": [],
   "source": [
    "counts"
   ]
  },
  {
   "cell_type": "code",
   "execution_count": null,
   "metadata": {
    "_uuid": "9be8e0cc26b104b7b7bffe1450cd70cfa83eb1d9",
    "collapsed": true,
    "trusted": true
   },
   "outputs": [],
   "source": [
    "loadedImagesTrain = np.asarray(loadedImagesTrain)"
   ]
  },
  {
   "cell_type": "code",
   "execution_count": null,
   "metadata": {
    "_uuid": "c79e7075c5a2b83e90e3109b5ca0bdbb84e69574",
    "collapsed": true,
    "trusted": true
   },
   "outputs": [],
   "source": [
    "type(loadedImagesTrain)"
   ]
  },
  {
   "cell_type": "code",
   "execution_count": null,
   "metadata": {
    "_uuid": "0ec2006bdbb32cb2a152b75247db491a724c1660",
    "collapsed": true,
    "trusted": true
   },
   "outputs": [],
   "source": [
    "loadedImagesTrain.shape"
   ]
  },
  {
   "cell_type": "code",
   "execution_count": null,
   "metadata": {
    "_uuid": "67e23e0973dc809b0f8a652bf989afd20abcb70d",
    "collapsed": true,
    "trusted": true
   },
   "outputs": [],
   "source": [
    "type(encoded_loadedLabelsTrain)"
   ]
  },
  {
   "cell_type": "code",
   "execution_count": null,
   "metadata": {
    "_uuid": "6a65569eedc493d4446abab84f5029c8c82c23c1",
    "collapsed": true,
    "trusted": true
   },
   "outputs": [],
   "source": [
    "encoded_loadedLabelsTrain.shape"
   ]
  },
  {
   "cell_type": "code",
   "execution_count": null,
   "metadata": {
    "_uuid": "08197ff4d549cd7d56cd0fdba47835864cf4db94",
    "collapsed": true,
    "trusted": true
   },
   "outputs": [],
   "source": [
    "loadedImagesValid, loadedLabelsValid = loadBatchImages(valid_path)\n",
    "loadedImagesValid = np.asarray(loadedImagesValid)\n",
    "encoder.fit(loadedLabelsValid)\n",
    "encoded_loadedLabelsValid = encoder.transform(loadedLabelsValid)"
   ]
  },
  {
   "cell_type": "markdown",
   "metadata": {
    "_uuid": "447fe959cea07d2bcb5fb3efbef80632004f88a6"
   },
   "source": [
    "# Train and Test Set"
   ]
  },
  {
   "cell_type": "code",
   "execution_count": null,
   "metadata": {
    "_uuid": "367ddb2afbf0647fbd04535508897abdefc4dc8e",
    "collapsed": true,
    "trusted": true
   },
   "outputs": [],
   "source": [
    "X_train, X_test, Y_train, Y_test = loadedImagesTrain,loadedImagesValid,encoded_loadedLabelsTrain,encoded_loadedLabelsValid"
   ]
  },
  {
   "cell_type": "code",
   "execution_count": null,
   "metadata": {
    "_uuid": "7e4b547c55955849e47f1a1e197bbd3e1a4df190",
    "collapsed": true,
    "trusted": true
   },
   "outputs": [],
   "source": [
    "del loadedImagesTrain,encoded_loadedLabelsTrain\n",
    "del loadedImagesValid,encoded_loadedLabelsValid"
   ]
  },
  {
   "cell_type": "code",
   "execution_count": null,
   "metadata": {
    "_uuid": "4443ca0206b75d5c855644f41ca2bf5e8643bda8",
    "collapsed": true,
    "trusted": true
   },
   "outputs": [],
   "source": [
    "import gc "
   ]
  },
  {
   "cell_type": "code",
   "execution_count": null,
   "metadata": {
    "_uuid": "31bf41fde161395b3db730fbc294f3a9e76aef9e",
    "collapsed": true,
    "trusted": true
   },
   "outputs": [],
   "source": [
    "gc.collect()"
   ]
  },
  {
   "cell_type": "markdown",
   "metadata": {
    "_uuid": "a7c3a5307ce913402d1b103876009cb903e61a43"
   },
   "source": [
    "## One Hot Encoding"
   ]
  },
  {
   "cell_type": "code",
   "execution_count": null,
   "metadata": {
    "_uuid": "a3327b0606aed0887ec3c2f39c36cd44765b4dc7",
    "collapsed": true,
    "trusted": true
   },
   "outputs": [],
   "source": [
    "# Encode labels to hot vectors (ex : 2 -> [0,0,1,0,0,0,0,0,0,0])\n",
    "from keras.utils.np_utils import to_categorical\n",
    "y_trainHot = to_categorical(Y_train, num_classes = 16)\n",
    "y_testHot = to_categorical(Y_test, num_classes = 16)"
   ]
  },
  {
   "cell_type": "code",
   "execution_count": null,
   "metadata": {
    "_uuid": "38bba7a2e3cfb42a193643d0ce605a60e9bf3385",
    "collapsed": true,
    "trusted": true
   },
   "outputs": [],
   "source": [
    "X_train.shape"
   ]
  },
  {
   "cell_type": "code",
   "execution_count": null,
   "metadata": {
    "_uuid": "880f5c7d5b88d00fbf19365b58ab758a66eac4e9",
    "collapsed": true,
    "trusted": true
   },
   "outputs": [],
   "source": [
    "y_trainHot.shape"
   ]
  },
  {
   "cell_type": "markdown",
   "metadata": {
    "_uuid": "512f93e69da65c2d08686644647ab2ec40fe7f53"
   },
   "source": [
    "# Helper Functions"
   ]
  },
  {
   "cell_type": "code",
   "execution_count": null,
   "metadata": {
    "_uuid": "1854bf38e152be513fdeb7d067550b0534f0a11b",
    "collapsed": true,
    "trusted": true
   },
   "outputs": [],
   "source": [
    "# Helper Functions  Learning Curves and Confusion Matrix\n",
    "\n",
    "class MetricsCheckpoint(Callback):\n",
    "    \"\"\"Callback that saves metrics after each epoch\"\"\"\n",
    "    def __init__(self, savepath):\n",
    "        super(MetricsCheckpoint, self).__init__()\n",
    "        self.savepath = savepath\n",
    "        self.history = {}\n",
    "    def on_epoch_end(self, epoch, logs=None):\n",
    "        for k, v in logs.items():\n",
    "            self.history.setdefault(k, []).append(v)\n",
    "        np.save(self.savepath, self.history)\n",
    "\n",
    "def plotKerasLearningCurve():\n",
    "    plt.figure(figsize=(10,5))\n",
    "    metrics = np.load('logs.npy')[()]\n",
    "    filt = ['acc'] # try to add 'loss' to see the loss learning curve\n",
    "    for k in filter(lambda x : np.any([kk in x for kk in filt]), metrics.keys()):\n",
    "        l = np.array(metrics[k])\n",
    "        plt.plot(l, c= 'r' if 'val' not in k else 'b', label='val' if 'val' in k else 'train')\n",
    "        x = np.argmin(l) if 'loss' in k else np.argmax(l)\n",
    "        y = l[x]\n",
    "        plt.scatter(x,y, lw=0, alpha=0.25, s=100, c='r' if 'val' not in k else 'b')\n",
    "        plt.text(x, y, '{} = {:.4f}'.format(x,y), size='15', color= 'r' if 'val' not in k else 'b')   \n",
    "    plt.legend(loc=4)\n",
    "    plt.axis([0, None, None, None]);\n",
    "    plt.grid()\n",
    "    plt.xlabel('Number of epochs')\n",
    "\n",
    "def plot_confusion_matrix(cm, classes,\n",
    "                          normalize=False,\n",
    "                          title='Confusion matrix',\n",
    "                          cmap=plt.cm.Blues):\n",
    "    \"\"\"\n",
    "    This function prints and plots the confusion matrix.\n",
    "    Normalization can be applied by setting `normalize=True`.\n",
    "    \"\"\"\n",
    "    plt.figure(figsize = (5,5))\n",
    "    plt.imshow(cm, interpolation='nearest', cmap=cmap)\n",
    "    plt.title(title)\n",
    "    plt.colorbar()\n",
    "    tick_marks = np.arange(len(classes))\n",
    "    plt.xticks(tick_marks, classes, rotation=90)\n",
    "    plt.yticks(tick_marks, classes)\n",
    "    if normalize:\n",
    "        cm = cm.astype('float') / cm.sum(axis=1)[:, np.newaxis]\n",
    "\n",
    "    thresh = cm.max() / 2.\n",
    "    for i, j in itertools.product(range(cm.shape[0]), range(cm.shape[1])):\n",
    "        plt.text(j, i, cm[i, j],\n",
    "                 horizontalalignment=\"center\",\n",
    "                 color=\"white\" if cm[i, j] > thresh else \"black\")\n",
    "    plt.tight_layout()\n",
    "    plt.ylabel('True label')\n",
    "    plt.xlabel('Predicted label')\n",
    "\n",
    "def plot_learning_curve(history):\n",
    "    plt.figure(figsize=(8,8))\n",
    "    plt.subplot(1,2,1)\n",
    "    plt.plot(history.history['acc'])\n",
    "    plt.plot(history.history['val_acc'])\n",
    "    plt.title('model accuracy')\n",
    "    plt.ylabel('accuracy')\n",
    "    plt.xlabel('epoch')\n",
    "    plt.legend(['train', 'test'], loc='upper left')\n",
    "    plt.savefig('./accuracy_curve.png')\n",
    "    #plt.clf()\n",
    "    # summarize history for loss\n",
    "    plt.subplot(1,2,2)\n",
    "    plt.plot(history.history['loss'])\n",
    "    plt.plot(history.history['val_loss'])\n",
    "    plt.title('model loss')\n",
    "    plt.ylabel('loss')\n",
    "    plt.xlabel('epoch')\n",
    "    plt.legend(['train', 'test'], loc='upper left')\n",
    "    plt.savefig('./loss_curve.png')"
   ]
  },
  {
   "cell_type": "markdown",
   "metadata": {
    "_uuid": "6b556d62b8a6fae068688aeb2aa4e266713e5ae9"
   },
   "source": [
    "# Build the Convolutional Network"
   ]
  },
  {
   "cell_type": "code",
   "execution_count": null,
   "metadata": {
    "_uuid": "34cb88f93eafd34f317f68277713450ee4d25e38",
    "collapsed": true,
    "trusted": true
   },
   "outputs": [],
   "source": [
    "batch_size = 128\n",
    "num_classes = 16\n",
    "epochs = 10\n",
    "img_rows,img_cols=200,200\n",
    "input_shape = (img_rows, img_cols, 3)\n",
    "e = 2"
   ]
  },
  {
   "cell_type": "code",
   "execution_count": null,
   "metadata": {
    "_uuid": "8e659b13ae34bbe3f57fb61b83e03a02dbb8231a",
    "collapsed": true,
    "trusted": true
   },
   "outputs": [],
   "source": [
    "model = Sequential()\n",
    "model.add(Conv2D(32, kernel_size=(3, 3),\n",
    "                 activation='relu',\n",
    "                 input_shape=input_shape,strides=e))\n",
    "model.add(Conv2D(64, (3, 3), activation='relu'))\n",
    "model.add(MaxPooling2D(pool_size=(2, 2)))\n",
    "model.add(Dropout(0.25))\n",
    "model.add(Flatten())\n",
    "model.add(Dense(128, activation='relu'))\n",
    "model.add(Dropout(0.5))\n",
    "model.add(Dense(num_classes, activation='softmax'))\n",
    "model.compile(loss=keras.losses.categorical_crossentropy,\n",
    "              optimizer=keras.optimizers.Adadelta(),\n",
    "              metrics=['accuracy'])"
   ]
  },
  {
   "cell_type": "code",
   "execution_count": null,
   "metadata": {
    "_uuid": "0059d60c4a51fdd2e2134cad13e72674167b1675",
    "collapsed": true,
    "trusted": true
   },
   "outputs": [],
   "source": [
    "datagen = ImageDataGenerator(\n",
    "        featurewise_center=False,  # set input mean to 0 over the dataset\n",
    "        samplewise_center=False,  # set each sample mean to 0\n",
    "        featurewise_std_normalization=False,  # divide inputs by std of the dataset\n",
    "        samplewise_std_normalization=False,  # divide each input by its std\n",
    "        zca_whitening=False,  # apply ZCA whitening\n",
    "        rotation_range=20,  # randomly rotate images in the range (degrees, 0 to 180)\n",
    "        width_shift_range=0.2,  # randomly shift images horizontally (fraction of total width)\n",
    "        height_shift_range=0.2,  # randomly shift images vertically (fraction of total height)\n",
    "        horizontal_flip=True,  # randomly flip images\n",
    "        vertical_flip=True)  # randomly flip images"
   ]
  },
  {
   "cell_type": "code",
   "execution_count": null,
   "metadata": {
    "_uuid": "7e210c0538b5443aaa899ade92ccba43933e3320",
    "collapsed": true,
    "trusted": true
   },
   "outputs": [],
   "source": [
    "a = X_train\n",
    "b = y_trainHot\n",
    "c = X_test\n",
    "d = y_testHot\n",
    "epochs = 30"
   ]
  },
  {
   "cell_type": "code",
   "execution_count": null,
   "metadata": {
    "_uuid": "8c727cca1fa1600f8e14f270fc89732a39bed82e",
    "collapsed": true,
    "trusted": true
   },
   "outputs": [],
   "source": [
    "history = model.fit_generator(datagen.flow(a,b, batch_size=32),\n",
    "                        steps_per_epoch=len(a) / 32, \n",
    "                              epochs=epochs,validation_data = [c, d],\n",
    "                              callbacks = [MetricsCheckpoint('logs')])"
   ]
  },
  {
   "cell_type": "code",
   "execution_count": null,
   "metadata": {
    "_uuid": "125ff9c80eeffd057ee332e2a192c8955a98ac00",
    "collapsed": true,
    "trusted": true
   },
   "outputs": [],
   "source": [
    "plotKerasLearningCurve()\n",
    "plt.show()  "
   ]
  },
  {
   "cell_type": "code",
   "execution_count": null,
   "metadata": {
    "_uuid": "cb3fd564817a46b3f1349813827cfdf97fee1aa0",
    "collapsed": true,
    "trusted": true
   },
   "outputs": [],
   "source": [
    "plot_learning_curve(history)\n",
    "plt.show()"
   ]
  },
  {
   "cell_type": "markdown",
   "metadata": {
    "_uuid": "dcc94620ca8d901c493649e67ac71be96143c321",
    "collapsed": true,
    "trusted": true
   },
   "source": [
    "# Vgg16"
   ]
  },
  {
   "cell_type": "code",
   "execution_count": null,
   "metadata": {
    "_uuid": "1f8ca1f477fdc57b65f1755af7a98c47a26bd2e1",
    "collapsed": true,
    "trusted": true
   },
   "outputs": [],
   "source": [
    "from keras.applications import VGG16\n",
    "from keras.applications.vgg16 import preprocess_input\n",
    "from keras.models import Model, Sequential, model_from_json"
   ]
  },
  {
   "cell_type": "code",
   "execution_count": null,
   "metadata": {
    "_uuid": "b68550420d635abc05ba685b3323b78918b5274c",
    "collapsed": true,
    "trusted": true
   },
   "outputs": [],
   "source": [
    "imageSize =200"
   ]
  },
  {
   "cell_type": "code",
   "execution_count": null,
   "metadata": {
    "_uuid": "ca05e7ae909e0e7a4cf97d78a8f0b37e86823af2",
    "collapsed": true,
    "trusted": true
   },
   "outputs": [],
   "source": [
    "pretrained_model_1 = VGG16(include_top=False, input_shape=(imageSize, imageSize, 3))"
   ]
  },
  {
   "cell_type": "code",
   "execution_count": null,
   "metadata": {
    "_uuid": "ec91c765a4b12a82195de5de91e6705dca778b64",
    "collapsed": true,
    "trusted": true
   },
   "outputs": [],
   "source": [
    "base_model = pretrained_model_1 # Topless\n",
    "optimizer1 = keras.optimizers.Adam()\n",
    "# Add top layer\n",
    "x = base_model.output\n",
    "x = Conv2D(200, kernel_size = (3,3), padding = 'valid')(x)\n",
    "x = Flatten()(x)\n",
    "x = Dropout(0.75)(x)\n",
    "predictions = Dense(16, activation='softmax')(x)\n",
    "model = Model(inputs=base_model.input, outputs=predictions)\n",
    "# Train top layer\n",
    "for layer in base_model.layers:\n",
    "    layer.trainable = False\n",
    "model.compile(loss='categorical_crossentropy', \n",
    "              optimizer=optimizer1, \n",
    "              metrics=['accuracy'])\n",
    "model.summary()"
   ]
  },
  {
   "cell_type": "code",
   "execution_count": null,
   "metadata": {
    "_uuid": "769a1f930e017cc97e8e0c6f7ddf90c7e09275c6",
    "collapsed": true,
    "trusted": true
   },
   "outputs": [],
   "source": [
    "history = model.fit(X_train,y_trainHot, \n",
    "                        epochs=10, \n",
    "                        batch_size = 32,\n",
    "                        validation_data=(X_test,y_testHot), \n",
    "                        verbose=1)"
   ]
  }
 ],
 "metadata": {
  "kernelspec": {
   "display_name": "Python 3",
   "language": "python",
   "name": "python3"
  },
  "language_info": {
   "codemirror_mode": {
    "name": "ipython",
    "version": 3
   },
   "file_extension": ".py",
   "mimetype": "text/x-python",
   "name": "python",
   "nbconvert_exporter": "python",
   "pygments_lexer": "ipython3",
   "version": "3.10.0"
  }
 },
 "nbformat": 4,
 "nbformat_minor": 1
}
