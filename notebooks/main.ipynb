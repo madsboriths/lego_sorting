{
 "cells": [
  {
   "cell_type": "markdown",
   "id": "586c28ee",
   "metadata": {},
   "source": [
    "# Main"
   ]
  },
  {
   "cell_type": "code",
   "execution_count": 4,
   "id": "c7a8a2d7",
   "metadata": {},
   "outputs": [
    {
     "ename": "ModuleNotFoundError",
     "evalue": "No module named 'lego_classifier'",
     "output_type": "error",
     "traceback": [
      "\u001b[1;31m---------------------------------------------------------------------------\u001b[0m",
      "\u001b[1;31mModuleNotFoundError\u001b[0m                       Traceback (most recent call last)",
      "Cell \u001b[1;32mIn[4], line 8\u001b[0m\n\u001b[0;32m      5\u001b[0m \u001b[38;5;28;01mfrom\u001b[39;00m\u001b[38;5;250m \u001b[39m\u001b[38;5;21;01mtorch\u001b[39;00m\u001b[38;5;21;01m.\u001b[39;00m\u001b[38;5;21;01mutils\u001b[39;00m\u001b[38;5;21;01m.\u001b[39;00m\u001b[38;5;21;01mdata\u001b[39;00m\u001b[38;5;250m \u001b[39m\u001b[38;5;28;01mimport\u001b[39;00m random_split\n\u001b[0;32m      6\u001b[0m \u001b[38;5;28;01mfrom\u001b[39;00m\u001b[38;5;250m \u001b[39m\u001b[38;5;21;01mtorch\u001b[39;00m\u001b[38;5;21;01m.\u001b[39;00m\u001b[38;5;21;01mutils\u001b[39;00m\u001b[38;5;21;01m.\u001b[39;00m\u001b[38;5;21;01mdata\u001b[39;00m\u001b[38;5;250m \u001b[39m\u001b[38;5;28;01mimport\u001b[39;00m DataLoader\n\u001b[1;32m----> 8\u001b[0m \u001b[38;5;28;01mimport\u001b[39;00m\u001b[38;5;250m \u001b[39m\u001b[38;5;21;01mlego_classifier\u001b[39;00m\u001b[38;5;21;01m.\u001b[39;00m\u001b[38;5;21;01mtransforms\u001b[39;00m\u001b[38;5;250m \u001b[39m\u001b[38;5;28;01mas\u001b[39;00m\u001b[38;5;250m \u001b[39m\u001b[38;5;21;01mtfs\u001b[39;00m\n\u001b[0;32m     10\u001b[0m \u001b[38;5;28;01mfrom\u001b[39;00m\u001b[38;5;250m \u001b[39m\u001b[38;5;21;01mtorchvision\u001b[39;00m\u001b[38;5;250m \u001b[39m\u001b[38;5;28;01mimport\u001b[39;00m datasets, transforms\n\u001b[0;32m     11\u001b[0m \u001b[38;5;28;01mfrom\u001b[39;00m\u001b[38;5;250m \u001b[39m\u001b[38;5;21;01mtorchvision\u001b[39;00m\u001b[38;5;250m \u001b[39m\u001b[38;5;28;01mimport\u001b[39;00m models\n",
      "\u001b[1;31mModuleNotFoundError\u001b[0m: No module named 'lego_classifier'"
     ]
    }
   ],
   "source": [
    "import torch\n",
    "import torch.nn as nn\n",
    "import torch.optim as optim\n",
    "\n",
    "from torch.utils.data import random_split\n",
    "from torch.utils.data import DataLoader\n",
    "\n",
    "import lego_classifier.dataset as tfs\n",
    "\n",
    "from torchvision import datasets, transforms\n",
    "from torchvision import models\n",
    "\n",
    "import json\n",
    "\n",
    "# Load dataset\n",
    "base_ds = datasets.ImageFolder('LEGO_brick_images_v1', transform=None)\n",
    "\n",
    "classes = base_ds.classes\n",
    "\n",
    "# 2. Build a class→index dict (ImageFolder already does this, but we re-create it)\n",
    "class_to_idx = {cls_name: idx for idx, cls_name in enumerate(classes)}\n",
    "\n",
    "# 3. Persist it\n",
    "with open('class_to_idx.json', 'w') as f:\n",
    "    json.dump(class_to_idx, f, indent=2)\n",
    "\n",
    "train_size = int(0.8 * len(base_ds))\n",
    "val_size   = len(base_ds) - train_size\n",
    "train_idx, val_idx = random_split(range(len(base_ds)),\n",
    "                                  [train_size, val_size],\n",
    "                                  generator=torch.Generator().manual_seed(42))\n",
    "\n",
    "train_tf = transforms.Compose([\n",
    "    transforms.Grayscale(num_output_channels=3),\n",
    "    transforms.RandomHorizontalFlip(),\n",
    "    transforms.RandomRotation(5),\n",
    "    transforms.Resize((128, 128)),\n",
    "    transforms.ToTensor(),\n",
    "    transforms.Normalize([0.5], [0.5])\n",
    "])\n",
    "\n",
    "val_tf = transforms.Compose([\n",
    "    transforms.Grayscale(num_output_channels=3),\n",
    "    transforms.Resize((128, 128)),\n",
    "    transforms.ToTensor(),\n",
    "    transforms.Normalize([0.5], [0.5])\n",
    "])\n",
    "\n",
    "train_ds = tfs.SubsetWithTransform(base_ds, train_idx, train_tf)\n",
    "val_ds   = tfs.SubsetWithTransform(base_ds, val_idx, val_tf)\n",
    "\n",
    "train_loader = DataLoader(train_ds, batch_size=32, shuffle=True,  num_workers=4)\n",
    "val_loader   = DataLoader(val_ds, batch_size=32, shuffle=False, num_workers=4)"
   ]
  },
  {
   "cell_type": "code",
   "execution_count": null,
   "id": "edbac42f",
   "metadata": {},
   "outputs": [],
   "source": [
    "from torchvision.models import ResNet18_Weights\n",
    "\n",
    "# Load pretrained model\n",
    "model = models.resnet18(weights=ResNet18_Weights.DEFAULT)\n",
    "\n",
    "# Freeze base layers\n",
    "for param in model.parameters():\n",
    "    param.requires_grad = False\n",
    "\n",
    "# Replace final layer\n",
    "num_classes = len(base_ds.classes)  # based on subfolder count\n",
    "model.fc = nn.Linear(model.fc.in_features, num_classes)\n",
    "\n",
    "device = torch.device('cuda' if torch.cuda.is_available() else 'cpu')\n",
    "model.to(device)\n",
    "\n",
    "criterion = nn.CrossEntropyLoss()\n",
    "optimizer = optim.Adam(model.fc.parameters(), lr=1e-3)  # only train last layer"
   ]
  },
  {
   "cell_type": "code",
   "execution_count": 32,
   "id": "765f1a71",
   "metadata": {},
   "outputs": [],
   "source": [
    "def train_one_epoch(model, loader):\n",
    "    model.train()\n",
    "    total_loss = total_correct = 0\n",
    "    for images, labels in loader:\n",
    "        images, labels = images.to(device), labels.to(device)\n",
    "\n",
    "        optimizer.zero_grad()\n",
    "        outputs = model(images)\n",
    "        loss = criterion(outputs, labels)\n",
    "        loss.backward()\n",
    "        optimizer.step()\n",
    "\n",
    "        total_loss    += loss.item() * images.size(0)\n",
    "        total_correct += (outputs.argmax(1) == labels).sum().item()\n",
    "\n",
    "    avg_loss = total_loss / len(loader.dataset)\n",
    "    avg_acc  = total_correct / len(loader.dataset)\n",
    "    return avg_loss, avg_acc\n",
    "\n",
    "def evaluate(model, loader):\n",
    "    model.eval()\n",
    "    total_loss = total_correct = 0\n",
    "    with torch.no_grad():\n",
    "        for images, labels in loader:\n",
    "            images, labels = images.to(device), labels.to(device)\n",
    "\n",
    "            outputs = model(images)\n",
    "            loss = criterion(outputs, labels)\n",
    "\n",
    "            total_loss    += loss.item() * images.size(0)\n",
    "            total_correct += (outputs.argmax(1) == labels).sum().item()\n",
    "\n",
    "    avg_loss = total_loss / len(loader.dataset)\n",
    "    avg_acc  = total_correct / len(loader.dataset)\n",
    "    return avg_loss, avg_acc"
   ]
  },
  {
   "cell_type": "code",
   "execution_count": 35,
   "id": "d7ff7ea5",
   "metadata": {},
   "outputs": [
    {
     "name": "stdout",
     "output_type": "stream",
     "text": [
      "Epoch  1 | Train loss 1.3947, acc 0.5893 | Val   loss 0.7554, acc 0.7939\n",
      "Epoch  2 | Train loss 0.7191, acc 0.7874 | Val   loss 0.5629, acc 0.8378\n",
      "Epoch  3 | Train loss 0.5657, acc 0.8230 | Val   loss 0.4565, acc 0.8683\n",
      "Epoch  4 | Train loss 0.4948, acc 0.8448 | Val   loss 0.4349, acc 0.8644\n",
      "Epoch  5 | Train loss 0.4415, acc 0.8644 | Val   loss 0.4208, acc 0.8652\n",
      "Epoch  6 | Train loss 0.4133, acc 0.8677 | Val   loss 0.3686, acc 0.8809\n",
      "Epoch  7 | Train loss 0.3768, acc 0.8763 | Val   loss 0.3399, acc 0.8785\n",
      "Epoch  8 | Train loss 0.3561, acc 0.8832 | Val   loss 0.3376, acc 0.9005\n",
      "Epoch  9 | Train loss 0.3433, acc 0.8811 | Val   loss 0.3246, acc 0.8856\n",
      "Epoch 10 | Train loss 0.3260, acc 0.8930 | Val   loss 0.3136, acc 0.8864\n"
     ]
    }
   ],
   "source": [
    "best_val_loss = float('inf')\n",
    "num_epochs = 10\n",
    "\n",
    "for epoch in range(1, num_epochs+1):\n",
    "    train_loss, train_acc = train_one_epoch(model, train_loader)\n",
    "    val_loss,   val_acc   = evaluate(model,   val_loader)\n",
    "    print(f\"Epoch {epoch:2d} | \"\n",
    "          f\"Train loss {train_loss:.4f}, acc {train_acc:.4f} | \"\n",
    "          f\"Val   loss {val_loss:.4f}, acc {val_acc:.4f}\")\n",
    "\n",
    "    if val_loss < best_val_loss:\n",
    "        best_val_loss = val_loss\n",
    "        torch.save(model.state_dict(), \"best_resnet18.pth\")"
   ]
  },
  {
   "cell_type": "markdown",
   "id": "adf51a1f",
   "metadata": {},
   "source": [
    "# Inference example"
   ]
  },
  {
   "cell_type": "code",
   "execution_count": null,
   "id": "a54e34d4",
   "metadata": {},
   "outputs": [
    {
     "ename": "SyntaxError",
     "evalue": "invalid syntax (1477799069.py, line 3)",
     "output_type": "error",
     "traceback": [
      "\u001b[1;36m  Cell \u001b[1;32mIn[40], line 3\u001b[1;36m\u001b[0m\n\u001b[1;33m    model.fc = nn.Linear(model.fc.in_features, num_classes=)\u001b[0m\n\u001b[1;37m                                                           ^\u001b[0m\n\u001b[1;31mSyntaxError\u001b[0m\u001b[1;31m:\u001b[0m invalid syntax\n"
     ]
    }
   ],
   "source": [
    "with open(\"class_to_idx.json\") as f:\n",
    "    class_to_idx = json.load(f)\n",
    "\n",
    "# 1. Load your model weights\n",
    "model = models.resnet18(pretrained=False)\n",
    "model.fc = nn.Linear(model.fc.in_features, num_classes=len(class_to_idx)) \n",
    "model.load_state_dict(torch.load('best_resnet18.pth'))\n",
    "model.eval()\n",
    "\n",
    "# 2. Reload the class↔idx map\n",
    "with open('class_to_idx.json') as f:\n",
    "    class_to_idx = json.load(f)\n",
    "# build the inverse map\n",
    "idx_to_class = {v: k for k, v in class_to_idx.items()}"
   ]
  }
 ],
 "metadata": {
  "kernelspec": {
   "display_name": "venv",
   "language": "python",
   "name": "python3"
  },
  "language_info": {
   "codemirror_mode": {
    "name": "ipython",
    "version": 3
   },
   "file_extension": ".py",
   "mimetype": "text/x-python",
   "name": "python",
   "nbconvert_exporter": "python",
   "pygments_lexer": "ipython3",
   "version": "3.10.0"
  }
 },
 "nbformat": 4,
 "nbformat_minor": 5
}
